{
 "cells": [
  {
   "cell_type": "markdown",
   "metadata": {},
   "source": [
    "#   <center> Project (bike_rentals)   Amine Dahane + Mostafa Alaywan"
   ]
  },
  {
   "cell_type": "code",
   "execution_count": null,
   "metadata": {},
   "outputs": [],
   "source": [
    "## ======================================================================\n",
    "#            Importing the necessary modules and tools\n",
    "## ======================================================================\n",
    "\n",
    "import pandas as pd; import numpy as np \n",
    "import matplotlib.pyplot as plt\n",
    "import seaborn as sns\n",
    "from sklearn.model_selection import train_test_split\n",
    "\n",
    "# Import GradientBoostingRegressor\n",
    "from sklearn.ensemble import GradientBoostingRegressor\n",
    "\n",
    "# from sklearn.metrics import necessary metrics\n",
    "from sklearn.metrics import mean_squared_error as MSE\n",
    "\n",
    "# to use ANOVA test \n",
    "import pingouin as pg \n",
    "\n",
    "\n",
    "# Set notebook options\n",
    "# --------------------\n",
    "pd.options.display.float_format = '{:,.3f}'.format\n",
    "%matplotlib inline\n"
   ]
  },
  {
   "cell_type": "code",
   "execution_count": null,
   "metadata": {},
   "outputs": [],
   "source": [
    "data_br = pd.read_csv('bike_rentals.csv')\n",
    "print(\"*\" * 50)\n",
    "data_br.info()\n",
    "print(\"*\" * 50)\n",
    "data_br.head()\n"
   ]
  },
  {
   "cell_type": "code",
   "execution_count": null,
   "metadata": {},
   "outputs": [],
   "source": [
    "# checkking missing value\n",
    "# ----------------------\n",
    "data_br.isnull().sum()"
   ]
  },
  {
   "cell_type": "code",
   "execution_count": null,
   "metadata": {},
   "outputs": [],
   "source": [
    "## ======================================\n",
    "#     Missing Data Imputation\n",
    "## ======================================\n",
    "\n",
    "\n",
    "\n",
    "# Imputing values with fillna() from pandas  \n",
    "#=================================================\n",
    "\n",
    "data_br['yr'] = data_br['yr'].fillna(method = 'ffill')\n",
    "data_br['mnth'] = data_br['mnth'].fillna(method = 'ffill')\n",
    "\n",
    "\n",
    "# Imputing values with Simple Imputer from sklearn \n",
    "#=================================================\n",
    "\n",
    "from sklearn.impute import SimpleImputer\n",
    "imp = SimpleImputer(missing_values=np.nan, strategy='mean')\n",
    "\n",
    "\n",
    "data_br['windspeed']=imp.fit_transform(data_br[['windspeed']])\n",
    "data_br['temp']=imp.fit_transform(data_br[['temp']])\n",
    "data_br['atemp']=imp.fit_transform(data_br[['atemp']])\n",
    "data_br['hum']=imp.fit_transform(data_br[['hum']])\n",
    "\n",
    "# Check the missing data again\n",
    "#===========================\n",
    "data_br.isnull().sum()\n",
    "\n",
    "#data_br.dropna(inplace=True)\n",
    "#data_br.info()"
   ]
  },
  {
   "cell_type": "code",
   "execution_count": null,
   "metadata": {},
   "outputs": [],
   "source": [
    "# Display rows 56 and 81, 128, 298, 528  /// Just for to be sure of using MEAN function\n",
    "\n",
    "data_br.iloc[[56, 81, 128, 298, 528]]\n"
   ]
  },
  {
   "cell_type": "code",
   "execution_count": null,
   "metadata": {},
   "outputs": [],
   "source": [
    "# transform 'dteday' to date time type \n",
    "# ===================================== \n",
    "data_br['dteday']= pd.to_datetime(data_br['dteday'])\n"
   ]
  },
  {
   "cell_type": "code",
   "execution_count": null,
   "metadata": {},
   "outputs": [],
   "source": [
    "data_br['year']=data_br['dteday'].dt.year\n",
    "data_br['month']=data_br['dteday'].dt.month\n",
    "data_br['DOW']=data_br['dteday'].dt.dayofweek"
   ]
  },
  {
   "cell_type": "code",
   "execution_count": null,
   "metadata": {},
   "outputs": [],
   "source": [
    "# Correlation Matrix : \n",
    "# ========================\n",
    "# the most correlated variables with \"cnt\" are : 'temp','atemp','casual'\n",
    "# the two variables 'temp' and 'atemp' are highly correlated , redundante variable \n",
    "corr_data = data_br[['cnt','temp','atemp','casual']]\n",
    "correlation_matrix = corr_data.corr()\n",
    "\n",
    "\n",
    "# Correlation Heatmap :\n",
    "# ========================\n",
    "sns.heatmap(correlation_matrix , annot=True )"
   ]
  },
  {
   "cell_type": "code",
   "execution_count": null,
   "metadata": {},
   "outputs": [],
   "source": [
    "# correlation between cnt and season\n",
    "# ====================================\n",
    "season = pg.anova(dv = 'cnt' , between = 'season', data = data_br , detailed = True )\n",
    "season"
   ]
  },
  {
   "cell_type": "code",
   "execution_count": null,
   "metadata": {},
   "outputs": [],
   "source": [
    "# correlation between cnt and weathersit\n",
    "# =======================================\n",
    "weathersit = pg.anova(dv = 'cnt' , between = 'weathersit', data = data_br , detailed = True )\n",
    "weathersit"
   ]
  },
  {
   "cell_type": "code",
   "execution_count": null,
   "metadata": {},
   "outputs": [],
   "source": [
    "data_br.columns"
   ]
  },
  {
   "cell_type": "code",
   "execution_count": null,
   "metadata": {},
   "outputs": [],
   "source": [
    "# correlation between cnt and year\n",
    "# =======================================\n",
    "year = pg.anova(dv = 'cnt' , between = 'year', data = data_br , detailed = True )\n",
    "year"
   ]
  },
  {
   "cell_type": "code",
   "execution_count": null,
   "metadata": {},
   "outputs": [],
   "source": [
    "# correlation between cnt and month\n",
    "# =======================================\n",
    "month = pg.anova(dv = 'cnt' , between = 'month', data = data_br , detailed = True )\n",
    "month"
   ]
  },
  {
   "cell_type": "code",
   "execution_count": null,
   "metadata": {},
   "outputs": [],
   "source": [
    "# List of the features (idependent variables)\n",
    "# ==============================================\n",
    "ind_variables_selected = ['season', 'weathersit' ,'temp' , 'casual' , 'year', 'month']\n"
   ]
  },
  {
   "cell_type": "code",
   "execution_count": null,
   "metadata": {},
   "outputs": [],
   "source": [
    "# Splitting Data \n",
    "# =================\n",
    "\n",
    "X = data_br[ind_variables_selected]\n",
    "y = data_br['cnt']\n",
    "X_train, X_test, y_train, y_test = train_test_split(X, \n",
    "                                                   y,\n",
    "                                                  test_size=0.20, \n",
    "                                                   random_state=3)"
   ]
  },
  {
   "cell_type": "code",
   "execution_count": null,
   "metadata": {},
   "outputs": [],
   "source": [
    "## ================================================================\n",
    "#      Training Gradient Boosting Regressor\n",
    "## ================================================================\n",
    "\n",
    "# Instantiate gb\n",
    "# --------------\n",
    "gb = GradientBoostingRegressor(max_depth=4, \n",
    "                              n_estimators= 100,\n",
    "                              random_state=1)\n",
    "\n",
    "# Fit gb to the training set\n",
    "gb.fit(X_train, y_train)\n",
    "\n",
    "# Predict test set labels\n",
    "y_pred = gb.predict(X_test)\n",
    "\n",
    "# Import mean_squared_error as MSE\n",
    "from sklearn.metrics import mean_squared_error as MSE\n",
    "\n",
    "# Compute MSE\n",
    "mse_test = MSE(y_test, y_pred)\n",
    "\n",
    "# Compute RMSE\n",
    "rmse_test = mse_test**0.5\n",
    "\n",
    "# Print RMSE\n",
    "print('Test set RMSE of gb: {:.3f}'.format(rmse_test))"
   ]
  },
  {
   "cell_type": "code",
   "execution_count": null,
   "metadata": {},
   "outputs": [],
   "source": [
    "\n",
    "gb=GradientBoostingRegressor()\n",
    "print(\"=\"*40)\n",
    "for key, value in gb.get_params().items():\n",
    "    print(\"{:30}{}\".format(key, value))\n",
    "print(\"=\"*40)"
   ]
  },
  {
   "cell_type": "code",
   "execution_count": null,
   "metadata": {},
   "outputs": [],
   "source": [
    "## =========================================================\n",
    "#.      Gradient Boosting Regressor Hyperparameter Tuning \n",
    "#.      using GridSearch CV\n",
    "## =========================================================\n",
    "\n",
    "# Import GridsearchCV\n",
    "# -------------------\n",
    "from sklearn.model_selection import GridSearchCV\n",
    "\n",
    "# Create a dictionary of the grid\n",
    "# -----------------------------\n",
    "gbm_grid = {\n",
    "    \"n_estimators\":[100,150,200,250, 300, 500, 1000],\n",
    "    \"learning_rate\": [0.01, 0.05, 0.1, 0.3, 0.5, 0.7, 0.8, 0.9, 1],\n",
    "    \"max_depth\":[3, 5, 8, 10],\n",
    "    \"max_features\":[\"log2\",\"sqrt\",\"auto\"],\n",
    "    \"min_samples_leaf\": [2, 10, 30, 40, 50, 70, 100],\n",
    "    \n",
    "    }\n",
    "\n",
    "# Instantiate the grid search CV\n",
    "# ------------------------------\n",
    "grid_gb = GridSearchCV(\n",
    "            estimator=GradientBoostingRegressor(random_state=1),\n",
    "            param_grid= gbm_grid,\n",
    "            cv=6, \n",
    "            n_jobs=8,\n",
    "            verbose = 1) "
   ]
  },
  {
   "cell_type": "code",
   "execution_count": null,
   "metadata": {},
   "outputs": [],
   "source": [
    "# Fit the grid seach object to the training data\n",
    "# ---------------------------------------------\n",
    "grid_gb.fit(X_train, y_train)"
   ]
  },
  {
   "cell_type": "code",
   "execution_count": null,
   "metadata": {},
   "outputs": [],
   "source": [
    "# Print the best parameters\n",
    "# -------------------------\n",
    "print(\"*\"*40)\n",
    "for hyper_name, val in grid_gb.best_params_.items():\n",
    "    print(\"{0:18}: {1}\".format(hyper_name, val))\n",
    "\n",
    "# print the best score\n",
    "# ---------------------\n",
    "print(\"*\"*40)\n",
    "print('The best achieved score: {:.5f}'.format(grid_gb.best_score_))\n",
    "print(\"*\"*40)"
   ]
  },
  {
   "cell_type": "code",
   "execution_count": null,
   "metadata": {},
   "outputs": [],
   "source": [
    "# Train the best Regressoor\n",
    "# --------------------------\n",
    "best_reg = GradientBoostingRegressor(\n",
    "              random_state=1,\n",
    "              learning_rate=0.01, \n",
    "              max_depth=5,\n",
    "              max_features='log2', \n",
    "              n_estimators=1000,\n",
    "           min_samples_leaf=10,\n",
    "                                 )\n",
    "# Fit the best Regressor\n",
    "# ------------------------\n",
    "best_reg.fit(X_train, y_train)\n",
    "\n",
    "# Make predictions\n",
    "# ----------------\n",
    "\n",
    "best_preds = best_reg.predict(X_test)\n",
    "\n",
    "\n",
    "\n",
    "\n",
    "# Import mean_squared_error as MSE\n",
    "from sklearn.metrics import mean_squared_error as MSE\n",
    "\n",
    "# Computethe best  MSE\n",
    "mse_best = MSE(y_test, best_preds)\n",
    "\n",
    "# Compute the best RMSE\n",
    "rmse_best = mse_best**0.5\n",
    "\n",
    "# Print the best RMSE\n",
    "print('Test set RMSE of gb: {:.3f}'.format(rmse_best))\n"
   ]
  }
 ],
 "metadata": {
  "kernelspec": {
   "display_name": "Python 3",
   "language": "python",
   "name": "python3"
  },
  "language_info": {
   "codemirror_mode": {
    "name": "ipython",
    "version": 3
   },
   "file_extension": ".py",
   "mimetype": "text/x-python",
   "name": "python",
   "nbconvert_exporter": "python",
   "pygments_lexer": "ipython3",
   "version": "3.8.5"
  }
 },
 "nbformat": 4,
 "nbformat_minor": 5
}
