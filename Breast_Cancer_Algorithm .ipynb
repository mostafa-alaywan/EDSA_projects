{
 "cells": [
  {
   "cell_type": "markdown",
   "metadata": {},
   "source": [
    "# <center> Members of the project :   Mostafa Alaywan + Amine Dahane"
   ]
  },
  {
   "cell_type": "code",
   "execution_count": null,
   "metadata": {},
   "outputs": [],
   "source": [
    "import pandas as pd \n",
    "import numpy as np \n",
    "import matplotlib.pyplot as plt \n",
    "import seaborn as sns \n",
    "from sklearn.model_selection import train_test_split \n",
    "from sklearn.preprocessing import MinMaxScaler \n",
    "from sklearn.model_selection import GridSearchCV\n",
    "from sklearn.metrics import confusion_matrix , classification_report , accuracy_score ,roc_auc_score \n",
    "from sklearn.tree import DecisionTreeClassifier\n",
    "from sklearn.ensemble import RandomForestClassifier\n",
    "from sklearn.svm import SVC\n",
    "from sklearn.linear_model import LogisticRegression\n",
    "from sklearn.ensemble import VotingClassifier \n",
    "from sklearn.ensemble import AdaBoostClassifier"
   ]
  },
  {
   "cell_type": "markdown",
   "metadata": {},
   "source": [
    "# <center>Data Preprocessing "
   ]
  },
  {
   "cell_type": "code",
   "execution_count": null,
   "metadata": {},
   "outputs": [],
   "source": [
    "\n",
    "# Import Data : \n",
    "# ---------------------\n",
    "\n",
    "cancer = pd.read_csv(\"breastcancer.csv\")\n",
    "\n",
    "print(\"*\"*80)\n",
    "\n",
    "cancer.info()\n",
    "\n",
    "print(\"*\"*80)\n",
    "\n",
    "cancer.head()"
   ]
  },
  {
   "cell_type": "code",
   "execution_count": null,
   "metadata": {},
   "outputs": [],
   "source": [
    "# checking for missing data \n",
    "# ----------------------------\n",
    "\n",
    "cancer.isna().sum()"
   ]
  },
  {
   "cell_type": "code",
   "execution_count": null,
   "metadata": {},
   "outputs": [],
   "source": [
    "cancer.describe().T"
   ]
  },
  {
   "cell_type": "code",
   "execution_count": null,
   "metadata": {},
   "outputs": [],
   "source": [
    "cancer['diagnosis'].value_counts()"
   ]
  },
  {
   "cell_type": "code",
   "execution_count": null,
   "metadata": {},
   "outputs": [],
   "source": [
    "# Coding the target variable : Diagnosis \n",
    "# ----------------------------------------\n",
    "\n",
    "cancer['diagnosis'] = cancer['diagnosis'].map({\"M\":1 , \"B\":0 })\n",
    "cancer['diagnosis'].value_counts()"
   ]
  },
  {
   "cell_type": "code",
   "execution_count": null,
   "metadata": {},
   "outputs": [],
   "source": [
    "#      Splitting  Data \n",
    "# --------------------------\n",
    "\n",
    "X = cancer.drop(['id','diagnosis'] , axis = 1 )\n",
    "y = cancer['diagnosis']\n",
    "\n",
    "X_train , X_test , y_train , y_test = train_test_split(X , y , test_size = 0.3,\n",
    "                                                      stratify = y , \n",
    "                                                      random_state = 1)"
   ]
  },
  {
   "cell_type": "code",
   "execution_count": null,
   "metadata": {},
   "outputs": [],
   "source": [
    "# Scaling data\n",
    "# --------------\n",
    "scaler = MinMaxScaler()\n",
    "\n",
    "X_train = scaler.fit_transform(X_train)\n",
    "\n",
    "X_train = pd.DataFrame(X_train)\n",
    "\n",
    "X_test = scaler.transform(X_test)\n",
    "\n",
    "X_test = pd.DataFrame(X_test)"
   ]
  },
  {
   "cell_type": "markdown",
   "metadata": {},
   "source": [
    "# <center>   (1)    AdaBoost Based on Decision Tree Predictor "
   ]
  },
  {
   "cell_type": "markdown",
   "metadata": {},
   "source": [
    "### <center>Adaboost hyperparameter tuning with decision tree as a base learner using GridSeachCV Algorithm"
   ]
  },
  {
   "cell_type": "code",
   "execution_count": null,
   "metadata": {},
   "outputs": [],
   "source": [
    "\n",
    "# Create the base estimator \n",
    "# -------------------------------\n",
    "ada_tree = AdaBoostClassifier(base_estimator = DecisionTreeClassifier(  max_depth=3,  random_state = 1), random_state = 1)\n",
    "\n",
    "\n",
    "ada_tree_param = {'base_estimator__max_depth': [3,4,5,6] , \n",
    "                  \n",
    "                 'n_estimators': [10, 100],\n",
    "                 'learning_rate': [0.01, 1]}\n",
    "\n",
    "ada_tree_grid = GridSearchCV(estimator = ada_tree ,\n",
    "                             param_grid = ada_tree_param , \n",
    "                             #cv= 5 , \n",
    "                             verbose = 1 )\n",
    "\n",
    "# Fitting the grid\n",
    "# -------------------\n",
    "ada_tree_model = ada_tree_grid.fit(X_train , y_train)\n"
   ]
  },
  {
   "cell_type": "code",
   "execution_count": null,
   "metadata": {},
   "outputs": [],
   "source": [
    "print(\"The Best Parameters For AdaBoost Classifier based on Decision Tree Predictor :\")\n",
    "print(\"-\"*80)\n",
    "for hyper_name , hyper_value in ada_tree_model.best_params_.items():\n",
    "    print(\"{:} : {}\".format(hyper_name , hyper_value))\n",
    "    \n",
    "print(\"-\"*80)\n",
    "\n",
    "print(\"The Best Score: {: .3f}\".format(ada_tree_model.best_score_))\n"
   ]
  },
  {
   "cell_type": "markdown",
   "metadata": {},
   "source": [
    "### <center>Fitting The Tuned Tree AdaBoost "
   ]
  },
  {
   "cell_type": "code",
   "execution_count": null,
   "metadata": {},
   "outputs": [],
   "source": [
    "final_ada_tree = AdaBoostClassifier(base_estimator = DecisionTreeClassifier(max_depth=3 , random_state=1),\n",
    "                                  n_estimators = 70 , \n",
    "                                   learning_rate = 0.9 , \n",
    "                                   random_state = 1)\n",
    "\n",
    "final_ada_tree.fit(X_train , y_train)\n",
    "\n",
    "# The Accuracy of Test Set : \n",
    "score_test = final_ada_tree.score(X_test , y_test )\n",
    "print(\"the accuracy : {:.4f}\".format(score_test))\n",
    "print(\"-\"*20)\n",
    "\n",
    "# The AUC Score : \n",
    "y_preds_proba = final_ada_tree.predict_proba(X_test)[:,1]\n",
    "\n",
    "# Evaluate the Area Under Curve (AUC) on test set \n",
    "print(\"ROC AUC Score :{: .4f}\".format(roc_auc_score(y_test , y_preds_proba)))"
   ]
  },
  {
   "cell_type": "code",
   "execution_count": null,
   "metadata": {},
   "outputs": [],
   "source": [
    "y_pred = final_ada_tree.predict(X_test)\n",
    "target_names = [\"class 0 \" , \"class 1 \"]\n",
    "print(classification_report(y_test , y_pred , target_names = target_names))"
   ]
  },
  {
   "cell_type": "markdown",
   "metadata": {},
   "source": [
    "# <center>AdaBoost Based on Logistic Regression Predictor "
   ]
  },
  {
   "cell_type": "markdown",
   "metadata": {},
   "source": [
    "### <center>Adaboost hyperparameter tuning with Logistic Regression as a base learner using GridSeachCV Algorithm"
   ]
  },
  {
   "cell_type": "code",
   "execution_count": null,
   "metadata": {},
   "outputs": [],
   "source": [
    "\n",
    "# Create the base estimator \n",
    "# -------------------------------\n",
    "\n",
    "ada_logreg = AdaBoostClassifier(base_estimator = LogisticRegression(random_state = 1), random_state = 1)\n",
    "\n",
    "ada_logreg_params = {'base_estimator__C' : np.linspace(25 , 200 , 8) , \n",
    "                     'learning_rate': np.linspace(0.1 , 0.9 , 8)}\n",
    "\n",
    "ada_logreg_grid = GridSearchCV(estimator = ada_logreg , \n",
    "                              param_grid = ada_logreg_params , \n",
    "                              cv = 5 , \n",
    "                              verbose = 1)\n",
    "\n",
    "\n",
    "# Fitting the grid\n",
    "# -------------------\n",
    "\n",
    "ada_logreg_model = ada_logreg_grid.fit(X_train , y_train)"
   ]
  },
  {
   "cell_type": "code",
   "execution_count": null,
   "metadata": {},
   "outputs": [],
   "source": [
    "ada_logreg_model.best_params_"
   ]
  },
  {
   "cell_type": "code",
   "execution_count": null,
   "metadata": {},
   "outputs": [],
   "source": [
    "ada_logreg_model.best_score_"
   ]
  },
  {
   "cell_type": "markdown",
   "metadata": {},
   "source": [
    "### <center>Fitting The Tuned Logistic Regression  AdaBoost"
   ]
  },
  {
   "cell_type": "code",
   "execution_count": null,
   "metadata": {},
   "outputs": [],
   "source": [
    "final_ada_logreg = AdaBoostClassifier(base_estimator = LogisticRegression(random_state = 1 , C = 50) , \n",
    "                                      learning_rate =  0.1 ,\n",
    "                                      random_state = 1)\n",
    "\n",
    "final_ada_logreg.fit(X_train , y_train)\n",
    "\n",
    "score_test= final_ada_logreg.score(X_test , y_test)\n",
    "print(score_test)\n",
    "\n",
    "y_preds_proba = final_ada_logreg.predict_proba(X_test)[:,1]\n",
    "\n",
    "# Evaluate the Area Under Curve (AUC) on test set \n",
    "print(\"ROC AUC Score :{: .4f}\".format(roc_auc_score(y_test , y_preds_proba)))\n"
   ]
  },
  {
   "cell_type": "markdown",
   "metadata": {},
   "source": [
    "### Classification Repport "
   ]
  },
  {
   "cell_type": "code",
   "execution_count": null,
   "metadata": {},
   "outputs": [],
   "source": [
    "y_pred = final_ada_logreg.predict(X_test)\n",
    "target_names = [\"class 0 \" , \"class 1 \"]\n",
    "print(classification_report(y_test , y_pred , target_names = target_names))"
   ]
  },
  {
   "cell_type": "markdown",
   "metadata": {},
   "source": [
    "#  <center>AdaBoost Based on Suport Vector Predictor "
   ]
  },
  {
   "cell_type": "markdown",
   "metadata": {},
   "source": [
    "### <center>Adaboost hyperparameter tuning with Support Vector Machine as a base learner using GridSeachCV Algorithm"
   ]
  },
  {
   "cell_type": "code",
   "execution_count": null,
   "metadata": {},
   "outputs": [],
   "source": [
    "\n",
    "# Create the base estimator \n",
    "# -------------------------------\n",
    "\n",
    "ada_svm = AdaBoostClassifier(base_estimator = SVC(probability = True , kernel = 'linear') , random_state = 1 )\n",
    "\n",
    "ada_svm_params = {'base_estimator__C':np.linspace(25 , 200 , 8) ,\n",
    "                  'learning_rate': np.linspace(0.1 , 0.9 , 8) }\n",
    "\n",
    "ada_svm_grid = GridSearchCV(estimator = ada_svm , \n",
    "                           param_grid = ada_svm_params , \n",
    "                           cv = 5 )\n",
    "\n",
    "\n",
    "# Fitting the grid\n",
    "# -------------------\n",
    "\n",
    "ada_svm_model = ada_svm_grid.fit(X_train , y_train)"
   ]
  },
  {
   "cell_type": "markdown",
   "metadata": {},
   "source": [
    "### <center>Fitting The Tuned Support Vector Machine AdaBoost"
   ]
  },
  {
   "cell_type": "code",
   "execution_count": null,
   "metadata": {},
   "outputs": [],
   "source": [
    "final_ada_svm = AdaBoostClassifier(base_estimator = SVC(probability = True,\n",
    "                                                        kernel = 'linear' ,\n",
    "                                                        C = 75 ,\n",
    "                                                        random_state = 1) , \n",
    "                                      learning_rate =  0.1 ,\n",
    "                                      random_state = 1)\n",
    "\n",
    "final_ada_svm.fit(X_train , y_train)\n",
    "\n",
    "score_test_svm = final_ada_svm.score(X_test , y_test)\n",
    "print(score_test)\n",
    "\n",
    "y_preds_proba = final_ada_svm.predict_proba(X_test)[:,1]\n",
    "\n",
    "# The Area Under Curve (AUC) on test set based on the Support Vector Machine Classifier \n",
    "print(\"ROC AUC Score :{: .4f}\".format(roc_auc_score(y_test , y_preds_proba)))"
   ]
  },
  {
   "cell_type": "code",
   "execution_count": null,
   "metadata": {},
   "outputs": [],
   "source": [
    "y_pred = final_ada_svm.predict(X_test)\n",
    "target_names = [\"class 0 \" , \"class 1 \"]\n",
    "print(classification_report(y_test , y_pred , target_names = target_names))"
   ]
  },
  {
   "cell_type": "markdown",
   "metadata": {},
   "source": [
    "# <center>Ensemble Classifier "
   ]
  },
  {
   "cell_type": "code",
   "execution_count": null,
   "metadata": {},
   "outputs": [],
   "source": []
  },
  {
   "cell_type": "code",
   "execution_count": null,
   "metadata": {},
   "outputs": [],
   "source": [
    "classifiers = [(\"Decision Tree\", final_ada_tree ),\n",
    "               (\"Logistic Regression\" , final_ada_logreg),\n",
    "               (\"Support Vector Machine\" , final_ada_svm )]\n",
    "\n",
    "for classification_method , classifier in classifiers :\n",
    "    classifier.fit(X_train , y_train)\n",
    "    \n",
    "    y_pred = classifier.predict(X_test)\n",
    "    \n",
    "    print(\"{:s} : {:.4f}\".format(classification_method , accuracy_score(y_pred, y_test)))\n",
    "    print(\"-\"*70)\n",
    "    \n",
    "vc = VotingClassifier(estimators = classifiers )\n",
    "\n",
    "\n",
    "# fit the \"vc\" to the training set : \n",
    "# ------------------------------------\n",
    "\n",
    "vc.fit(X_train , y_train) \n",
    "\n",
    "# \n",
    "y_pred = vc.predict(X_test)\n",
    "score = accuracy_score(y_pred , y_test)\n",
    "print(\"The Accuracy Score of the Ensemble Classifier is {:.4f}\".format(score))\n",
    "print(\"-\"*70)\n",
    "\n",
    "\n",
    "# Confusion Matrix on Test Set \n",
    "#------------------------------\n",
    "\n",
    "confusion_matrix(y_pred , y_test)\n",
    "\n"
   ]
  },
  {
   "cell_type": "code",
   "execution_count": null,
   "metadata": {},
   "outputs": [],
   "source": [
    "y_pred = vc.predict(X_test)\n",
    "target_names = [\"class 0 \" , \"class 1 \"]\n",
    "print(classification_report(y_test , y_pred , target_names = target_names))"
   ]
  },
  {
   "cell_type": "markdown",
   "metadata": {},
   "source": [
    "#   <center> (4)    Random Forest"
   ]
  },
  {
   "cell_type": "code",
   "execution_count": 4,
   "metadata": {},
   "outputs": [
    {
     "name": "stdout",
     "output_type": "stream",
     "text": [
      "****************************************\n",
      "The Tuned model accuracy is: 0.9357\n",
      "****************************************\n",
      "The Tuned Random forest AUC Score is: 0.9880\n",
      "****************************************\n"
     ]
    }
   ],
   "source": [
    "# Instantiate a random forests classifier 'rf_reg'\n",
    "# ----------------------------------------------\n",
    "rf_cla = RandomForestClassifier (random_state= 1)\n",
    "\n",
    "# Fit the tree classifier \n",
    "# ----------------------\n",
    "rf_cla.fit(X_train, y_train)\n",
    "\n",
    "\n",
    "# The accuracy of tuned model\n",
    "# ---------------------------\n",
    "print(\"*\"*40)\n",
    "print('The Tuned model accuracy is: {:.4}'.format(\n",
    "    (rf_cla.score(X_test,y_test)))\n",
    "     )\n",
    "print(\"*\"*40)\n",
    "\n",
    "# The Tuned model AUC score\n",
    "# -------------------------\n",
    "y_pred_rf_cla = rf_cla.predict_proba(X_test)\n",
    "\n",
    "fpr_rf_cla, tpr_rf_cla, thresholds = roc_curve(y_test, y_pred_rf_cla[:,1])\n",
    "\n",
    "auc_rff_cla = auc(fpr_rf_cla, tpr_rf_cla)\n",
    "\n",
    "print ('The Tuned Random forest AUC Score is: {:.4f}'.format(auc_rff_cla))\n",
    "print(\"*\"*40)"
   ]
  },
  {
   "cell_type": "code",
   "execution_count": 5,
   "metadata": {},
   "outputs": [
    {
     "name": "stdout",
     "output_type": "stream",
     "text": [
      "********************************************************************************\n",
      "<class 'pandas.core.frame.DataFrame'>\n",
      "RangeIndex: 569 entries, 0 to 568\n",
      "Data columns (total 32 columns):\n",
      " #   Column                   Non-Null Count  Dtype  \n",
      "---  ------                   --------------  -----  \n",
      " 0   diagnosis                569 non-null    object \n",
      " 1   id                       569 non-null    int64  \n",
      " 2   radius_mean              569 non-null    float64\n",
      " 3   texture_mean             569 non-null    float64\n",
      " 4   perimeter_mean           569 non-null    float64\n",
      " 5   area_mean                569 non-null    float64\n",
      " 6   smoothness_mean          569 non-null    float64\n",
      " 7   compactness_mean         569 non-null    float64\n",
      " 8   concavity_mean           569 non-null    float64\n",
      " 9   concave points_mean      569 non-null    float64\n",
      " 10  symmetry_mean            569 non-null    float64\n",
      " 11  fractal_dimension_mean   569 non-null    float64\n",
      " 12  radius_se                569 non-null    float64\n",
      " 13  texture_se               569 non-null    float64\n",
      " 14  perimeter_se             569 non-null    float64\n",
      " 15  area_se                  569 non-null    float64\n",
      " 16  smoothness_se            569 non-null    float64\n",
      " 17  compactness_se           569 non-null    float64\n",
      " 18  concavity_se             569 non-null    float64\n",
      " 19  concave points_se        569 non-null    float64\n",
      " 20  symmetry_se              569 non-null    float64\n",
      " 21  fractal_dimension_se     569 non-null    float64\n",
      " 22  radius_worst             569 non-null    float64\n",
      " 23  texture_worst            569 non-null    float64\n",
      " 24  perimeter_worst          569 non-null    float64\n",
      " 25  area_worst               569 non-null    float64\n",
      " 26  smoothness_worst         569 non-null    float64\n",
      " 27  compactness_worst        569 non-null    float64\n",
      " 28  concavity_worst          569 non-null    float64\n",
      " 29  concave points_worst     569 non-null    float64\n",
      " 30  symmetry_worst           569 non-null    float64\n",
      " 31  fractal_dimension_worst  569 non-null    float64\n",
      "dtypes: float64(30), int64(1), object(1)\n",
      "memory usage: 142.4+ KB\n",
      "********************************************************************************\n"
     ]
    },
    {
     "data": {
      "text/html": [
       "<div>\n",
       "<style scoped>\n",
       "    .dataframe tbody tr th:only-of-type {\n",
       "        vertical-align: middle;\n",
       "    }\n",
       "\n",
       "    .dataframe tbody tr th {\n",
       "        vertical-align: top;\n",
       "    }\n",
       "\n",
       "    .dataframe thead th {\n",
       "        text-align: right;\n",
       "    }\n",
       "</style>\n",
       "<table border=\"1\" class=\"dataframe\">\n",
       "  <thead>\n",
       "    <tr style=\"text-align: right;\">\n",
       "      <th></th>\n",
       "      <th>diagnosis</th>\n",
       "      <th>id</th>\n",
       "      <th>radius_mean</th>\n",
       "      <th>texture_mean</th>\n",
       "      <th>perimeter_mean</th>\n",
       "      <th>area_mean</th>\n",
       "      <th>smoothness_mean</th>\n",
       "      <th>compactness_mean</th>\n",
       "      <th>concavity_mean</th>\n",
       "      <th>concave points_mean</th>\n",
       "      <th>...</th>\n",
       "      <th>radius_worst</th>\n",
       "      <th>texture_worst</th>\n",
       "      <th>perimeter_worst</th>\n",
       "      <th>area_worst</th>\n",
       "      <th>smoothness_worst</th>\n",
       "      <th>compactness_worst</th>\n",
       "      <th>concavity_worst</th>\n",
       "      <th>concave points_worst</th>\n",
       "      <th>symmetry_worst</th>\n",
       "      <th>fractal_dimension_worst</th>\n",
       "    </tr>\n",
       "  </thead>\n",
       "  <tbody>\n",
       "    <tr>\n",
       "      <th>0</th>\n",
       "      <td>M</td>\n",
       "      <td>842302</td>\n",
       "      <td>17.99</td>\n",
       "      <td>10.38</td>\n",
       "      <td>122.80</td>\n",
       "      <td>1001.0</td>\n",
       "      <td>0.11840</td>\n",
       "      <td>0.27760</td>\n",
       "      <td>0.3001</td>\n",
       "      <td>0.14710</td>\n",
       "      <td>...</td>\n",
       "      <td>25.38</td>\n",
       "      <td>17.33</td>\n",
       "      <td>184.60</td>\n",
       "      <td>2019.0</td>\n",
       "      <td>0.1622</td>\n",
       "      <td>0.6656</td>\n",
       "      <td>0.7119</td>\n",
       "      <td>0.2654</td>\n",
       "      <td>0.4601</td>\n",
       "      <td>0.11890</td>\n",
       "    </tr>\n",
       "    <tr>\n",
       "      <th>1</th>\n",
       "      <td>M</td>\n",
       "      <td>842517</td>\n",
       "      <td>20.57</td>\n",
       "      <td>17.77</td>\n",
       "      <td>132.90</td>\n",
       "      <td>1326.0</td>\n",
       "      <td>0.08474</td>\n",
       "      <td>0.07864</td>\n",
       "      <td>0.0869</td>\n",
       "      <td>0.07017</td>\n",
       "      <td>...</td>\n",
       "      <td>24.99</td>\n",
       "      <td>23.41</td>\n",
       "      <td>158.80</td>\n",
       "      <td>1956.0</td>\n",
       "      <td>0.1238</td>\n",
       "      <td>0.1866</td>\n",
       "      <td>0.2416</td>\n",
       "      <td>0.1860</td>\n",
       "      <td>0.2750</td>\n",
       "      <td>0.08902</td>\n",
       "    </tr>\n",
       "    <tr>\n",
       "      <th>2</th>\n",
       "      <td>M</td>\n",
       "      <td>84300903</td>\n",
       "      <td>19.69</td>\n",
       "      <td>21.25</td>\n",
       "      <td>130.00</td>\n",
       "      <td>1203.0</td>\n",
       "      <td>0.10960</td>\n",
       "      <td>0.15990</td>\n",
       "      <td>0.1974</td>\n",
       "      <td>0.12790</td>\n",
       "      <td>...</td>\n",
       "      <td>23.57</td>\n",
       "      <td>25.53</td>\n",
       "      <td>152.50</td>\n",
       "      <td>1709.0</td>\n",
       "      <td>0.1444</td>\n",
       "      <td>0.4245</td>\n",
       "      <td>0.4504</td>\n",
       "      <td>0.2430</td>\n",
       "      <td>0.3613</td>\n",
       "      <td>0.08758</td>\n",
       "    </tr>\n",
       "    <tr>\n",
       "      <th>3</th>\n",
       "      <td>M</td>\n",
       "      <td>84348301</td>\n",
       "      <td>11.42</td>\n",
       "      <td>20.38</td>\n",
       "      <td>77.58</td>\n",
       "      <td>386.1</td>\n",
       "      <td>0.14250</td>\n",
       "      <td>0.28390</td>\n",
       "      <td>0.2414</td>\n",
       "      <td>0.10520</td>\n",
       "      <td>...</td>\n",
       "      <td>14.91</td>\n",
       "      <td>26.50</td>\n",
       "      <td>98.87</td>\n",
       "      <td>567.7</td>\n",
       "      <td>0.2098</td>\n",
       "      <td>0.8663</td>\n",
       "      <td>0.6869</td>\n",
       "      <td>0.2575</td>\n",
       "      <td>0.6638</td>\n",
       "      <td>0.17300</td>\n",
       "    </tr>\n",
       "    <tr>\n",
       "      <th>4</th>\n",
       "      <td>M</td>\n",
       "      <td>84358402</td>\n",
       "      <td>20.29</td>\n",
       "      <td>14.34</td>\n",
       "      <td>135.10</td>\n",
       "      <td>1297.0</td>\n",
       "      <td>0.10030</td>\n",
       "      <td>0.13280</td>\n",
       "      <td>0.1980</td>\n",
       "      <td>0.10430</td>\n",
       "      <td>...</td>\n",
       "      <td>22.54</td>\n",
       "      <td>16.67</td>\n",
       "      <td>152.20</td>\n",
       "      <td>1575.0</td>\n",
       "      <td>0.1374</td>\n",
       "      <td>0.2050</td>\n",
       "      <td>0.4000</td>\n",
       "      <td>0.1625</td>\n",
       "      <td>0.2364</td>\n",
       "      <td>0.07678</td>\n",
       "    </tr>\n",
       "  </tbody>\n",
       "</table>\n",
       "<p>5 rows × 32 columns</p>\n",
       "</div>"
      ],
      "text/plain": [
       "  diagnosis        id  radius_mean  texture_mean  perimeter_mean  area_mean  \\\n",
       "0         M    842302        17.99         10.38          122.80     1001.0   \n",
       "1         M    842517        20.57         17.77          132.90     1326.0   \n",
       "2         M  84300903        19.69         21.25          130.00     1203.0   \n",
       "3         M  84348301        11.42         20.38           77.58      386.1   \n",
       "4         M  84358402        20.29         14.34          135.10     1297.0   \n",
       "\n",
       "   smoothness_mean  compactness_mean  concavity_mean  concave points_mean  \\\n",
       "0          0.11840           0.27760          0.3001              0.14710   \n",
       "1          0.08474           0.07864          0.0869              0.07017   \n",
       "2          0.10960           0.15990          0.1974              0.12790   \n",
       "3          0.14250           0.28390          0.2414              0.10520   \n",
       "4          0.10030           0.13280          0.1980              0.10430   \n",
       "\n",
       "   ...  radius_worst  texture_worst  perimeter_worst  area_worst  \\\n",
       "0  ...         25.38          17.33           184.60      2019.0   \n",
       "1  ...         24.99          23.41           158.80      1956.0   \n",
       "2  ...         23.57          25.53           152.50      1709.0   \n",
       "3  ...         14.91          26.50            98.87       567.7   \n",
       "4  ...         22.54          16.67           152.20      1575.0   \n",
       "\n",
       "   smoothness_worst  compactness_worst  concavity_worst  concave points_worst  \\\n",
       "0            0.1622             0.6656           0.7119                0.2654   \n",
       "1            0.1238             0.1866           0.2416                0.1860   \n",
       "2            0.1444             0.4245           0.4504                0.2430   \n",
       "3            0.2098             0.8663           0.6869                0.2575   \n",
       "4            0.1374             0.2050           0.4000                0.1625   \n",
       "\n",
       "   symmetry_worst  fractal_dimension_worst  \n",
       "0          0.4601                  0.11890  \n",
       "1          0.2750                  0.08902  \n",
       "2          0.3613                  0.08758  \n",
       "3          0.6638                  0.17300  \n",
       "4          0.2364                  0.07678  \n",
       "\n",
       "[5 rows x 32 columns]"
      ]
     },
     "execution_count": 5,
     "metadata": {},
     "output_type": "execute_result"
    }
   ],
   "source": [
    "# Import Data : \n",
    "# ---------------------\n",
    "\n",
    "cancer = pd.read_csv(\"breastcancer.csv\")\n",
    "\n",
    "print(\"*\"*80)\n",
    "\n",
    "cancer.info()\n",
    "\n",
    "print(\"*\"*80)\n",
    "\n",
    "cancer.head()\n"
   ]
  },
  {
   "cell_type": "code",
   "execution_count": 6,
   "metadata": {},
   "outputs": [
    {
     "name": "stdout",
     "output_type": "stream",
     "text": [
      "diagnosis                 : 0.065\n",
      "radius_mean               : 0.019\n",
      "texture_mean              : 0.054\n",
      "area_mean                 : 0.038\n",
      "compactness_mean          : 0.007\n",
      "concavity_mean            : 0.005\n",
      "fractal_dimension_worst   : 0.076\n",
      "area_worst                : 0.095\n"
     ]
    }
   ],
   "source": [
    "features = ['diagnosis', 'radius_mean', 'texture_mean', 'area_mean',\n",
    "       'compactness_mean', 'concavity_mean', 'fractal_dimension_worst', 'area_worst']\n",
    "for name, score in zip(features, rf_cla.feature_importances_):\n",
    "    print(\"{0:26}: {1:.3f}\".format(name, score))"
   ]
  },
  {
   "cell_type": "code",
   "execution_count": 7,
   "metadata": {},
   "outputs": [
    {
     "data": {
      "image/png": "[encoded data removed]",
      "text/plain": [
       "<Figure size 432x288 with 1 Axes>"
      ]
     },
     "metadata": {
      "needs_background": "light"
     },
     "output_type": "display_data"
    }
   ],
   "source": [
    "# Create a pd.Series of features importances\n",
    "importances = pd.Series(data=rf_cla.feature_importances_,\n",
    "                        index= X_train.columns)\n",
    "\n",
    "# Sort importances\n",
    "importances_sorted = importances.sort_values()\n",
    "\n",
    "# Draw a horizontal barplot of importances_sorted\n",
    "importances_sorted.plot(color='lightgreen',\n",
    "                        kind='barh')\n",
    "plt.title('Features Importances')\n",
    "plt.show()"
   ]
  },
  {
   "cell_type": "code",
   "execution_count": 8,
   "metadata": {},
   "outputs": [
    {
     "name": "stdout",
     "output_type": "stream",
     "text": [
      "Fitting 5 folds for each of 27 candidates, totalling 135 fits\n"
     ]
    }
   ],
   "source": [
    "## ==========================================================\n",
    "#   Random Forest classifier Hyperparameter tuning In Action\n",
    "## ==========================================================\n",
    "\n",
    "# Import GridSearchCV\n",
    "#----------------------\n",
    "from sklearn.model_selection import GridSearchCV\n",
    "\n",
    "# Instantiate a tree regressor\n",
    "# ----------------------------\n",
    "rf_cla = RandomForestClassifier(random_state= 1)\n",
    "\n",
    "# Define the dictionary 'params_rf_reg'\n",
    "params_rf_cla = {\n",
    "    'n_estimators': [100, 350, 500], \n",
    "    'max_features': ['log2', 'auto', 'sqrt'],\n",
    "    'min_samples_leaf': [2, 10, 30]\n",
    "}\n",
    "\n",
    "# Import GridSearchCV\n",
    "# ------------------------\n",
    "from sklearn.model_selection import GridSearchCV\n",
    "\n",
    "# Instantiate grid_rf_reg\n",
    "grid_rf_cla = GridSearchCV(estimator=rf_cla,\n",
    "                       param_grid= params_rf_cla,\n",
    "                       scoring='neg_mean_squared_error',\n",
    "                       cv=5,\n",
    "                       verbose=1,\n",
    "                       n_jobs=8)\n",
    "\n",
    " # Fit 'grid_rf_reg' to the training set\n",
    "grid_rf_cla.fit(X_train, y_train)\n",
    "\n",
    "# Extract the best estimator\n",
    "best_model = grid_rf_cla.best_estimator_\n",
    "\n",
    "# Predict test set labels\n",
    "y_pred = best_model.predict(X_test)\n",
    "\n",
    "\n",
    "\n",
    "\n"
   ]
  },
  {
   "cell_type": "code",
   "execution_count": null,
   "metadata": {},
   "outputs": [],
   "source": []
  }
 ],
 "metadata": {
  "kernelspec": {
   "display_name": "Python 3 (ipykernel)",
   "language": "python",
   "name": "python3"
  },
  "language_info": {
   "codemirror_mode": {
    "name": "ipython",
    "version": 3
   },
   "file_extension": ".py",
   "mimetype": "text/x-python",
   "name": "python",
   "nbconvert_exporter": "python",
   "pygments_lexer": "ipython3",
   "version": "3.9.7"
  }
 },
 "nbformat": 4,
 "nbformat_minor": 4
}
